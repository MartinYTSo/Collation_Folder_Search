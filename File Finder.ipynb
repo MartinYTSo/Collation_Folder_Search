{
 "cells": [
  {
   "cell_type": "code",
   "execution_count": 1,
   "metadata": {},
   "outputs": [],
   "source": [
    "import os\n",
    "import docx2txt\n",
    "\n",
    "# def file_finder():\n",
    "#     variable= input('What is your directory?')\n",
    "#     os.chdir(variable)\n",
    "#     # text= ''\n",
    "#     files = []\n",
    "#     for file in os.listdir(variable): #for every single file in the directory \n",
    "#         if file.endswith('.docx'): #if the file ends in .docx \n",
    "#             files.append(file)  #add it to the list of files \n",
    "#     return files\n",
    "\n",
    "\n",
    "# files= file_finder()\n",
    "# while True:   \n",
    "#     keyword= input('Input your word or type in Terminate to exit: ')\n",
    "#     for i in range(len(files)): #for every individual files in the list that we just made\n",
    "#         text = docx2txt.process(files[i]) #writing the text in each file (i) in the list of files \n",
    "#         if keyword.lower() in text.lower():  #for word in text\n",
    "#             print ((files[i]))    \n",
    "#     if keyword== ('Terminate') or keyword== ('terminate'):\n",
    "#         break"
   ]
  },
  {
   "cell_type": "code",
   "execution_count": 2,
   "metadata": {},
   "outputs": [],
   "source": [
    "def find_doc():\n",
    "    variable= input('What is your directory?') #asking for root directory\n",
    "    os.chdir(variable)\n",
    "    files = []\n",
    "    for dirpath, dirnames, filenames in os.walk(variable):\n",
    "        for filename in [f for f in filenames if f.endswith(\".docx\")]:\n",
    "            files.append(os.path.join(dirpath, filename))\n",
    "    return files"
   ]
  },
  {
   "cell_type": "code",
   "execution_count": 4,
   "metadata": {},
   "outputs": [
    {
     "name": "stdin",
     "output_type": "stream",
     "text": [
      "What is your directory? C:\\Users\\epicr\\Desktop\\Collation Folder Test\n",
      "Input your word or type in Terminate to exit:  ARIANA\n"
     ]
    },
    {
     "name": "stdout",
     "output_type": "stream",
     "text": [
      "C:\\Users\\epicr\\Desktop\\Collation Folder Test\\U 1.1 EO 006.02a-c HA 3_MX REPORT 0021-01.docx\n",
      "C:\\Users\\epicr\\Desktop\\Collation Folder Test\\U 1.1 EO 006.02a-c HA 3_OSINT-Atropian President attends opening.docx\n",
      "C:\\Users\\epicr\\Desktop\\Collation Folder Test\\Coy Con\\23.docx\n",
      "C:\\Users\\epicr\\Desktop\\Collation Folder Test\\engineering report\\U 1.1 EO 006.02a-c HA 3_Engineering Report 001 - ROUTES INTO NORTHERN ARIANA.docx\n"
     ]
    },
    {
     "name": "stdin",
     "output_type": "stream",
     "text": [
      "Input your word or type in Terminate to exit:  rkt\n"
     ]
    },
    {
     "name": "stdout",
     "output_type": "stream",
     "text": [
      "C:\\Users\\epicr\\Desktop\\Collation Folder Test\\Coy Con\\rocket barrage\\24.docx\n"
     ]
    },
    {
     "name": "stdin",
     "output_type": "stream",
     "text": [
      "Input your word or type in Terminate to exit:  terminate\n"
     ]
    }
   ],
   "source": [
    "all_files= find_doc()\n",
    "while True: \n",
    "    keyword= input('Input your word or type in Terminate to exit: ')\n",
    "    if keyword.lower() == 'terminate':\n",
    "        break\n",
    "    else:   \n",
    "        for i in range(len(all_files)): \n",
    "            text = docx2txt.process(all_files[i]) \n",
    "            if keyword.lower() in text.lower():  #to make it case insensitive\n",
    "                print ((all_files[i]))  "
   ]
  },
  {
   "cell_type": "code",
   "execution_count": null,
   "metadata": {},
   "outputs": [],
   "source": []
  }
 ],
 "metadata": {
  "kernelspec": {
   "display_name": "Python 3",
   "language": "python",
   "name": "python3"
  },
  "language_info": {
   "codemirror_mode": {
    "name": "ipython",
    "version": 3
   },
   "file_extension": ".py",
   "mimetype": "text/x-python",
   "name": "python",
   "nbconvert_exporter": "python",
   "pygments_lexer": "ipython3",
   "version": "3.7.6"
  }
 },
 "nbformat": 4,
 "nbformat_minor": 4
}
