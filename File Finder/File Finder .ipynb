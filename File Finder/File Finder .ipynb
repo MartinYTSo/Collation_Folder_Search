{
 "cells": [
  {
   "cell_type": "code",
   "execution_count": null,
   "metadata": {},
   "outputs": [],
   "source": [
    "import os\n",
    "import docx2txt\n",
    "variable= input('What is your directory?')\n",
    "os.chdir(variable)\n",
    "# text= ''\n",
    "files = []\n",
    "for file in os.listdir(variable): #for every single file in the directory \n",
    "    if file.endswith('.docx'): #if the file ends in .docx \n",
    "        files.append(file)  #add it to the list of files \n",
    "while True:   \n",
    "    keyword= input('Input your word or type in Terminate to exit: ')\n",
    "    for i in range(len(files)): #for every individual files in the list that we just made\n",
    "        text = docx2txt.process(files[i]) #writing the text in each file (i) in the list of files \n",
    "        if keyword in text:  #for word in text\n",
    "            print ((files[i]))    \n",
    "    if keyword== ('Terminate') or keyword== ('terminate'):\n",
    "        break\n"
   ]
  },
  {
   "cell_type": "code",
   "execution_count": null,
   "metadata": {},
   "outputs": [],
   "source": []
  }
 ],
 "metadata": {
  "kernelspec": {
   "display_name": "Python 3",
   "language": "python",
   "name": "python3"
  },
  "language_info": {
   "codemirror_mode": {
    "name": "ipython",
    "version": 3
   },
   "file_extension": ".py",
   "mimetype": "text/x-python",
   "name": "python",
   "nbconvert_exporter": "python",
   "pygments_lexer": "ipython3",
   "version": "3.7.6"
  }
 },
 "nbformat": 4,
 "nbformat_minor": 4
}
